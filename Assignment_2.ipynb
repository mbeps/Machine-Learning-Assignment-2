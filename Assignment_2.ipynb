{
 "cells": [
  {
   "cell_type": "code",
   "execution_count": 300,
   "metadata": {},
   "outputs": [],
   "source": [
    "from sklearn.datasets import load_diabetes\n",
    "from sklearn.model_selection import train_test_split\n",
    "import numpy as np\n",
    "from sklearn.linear_model import Lasso\n",
    "from sklearn.model_selection import GridSearchCV\n",
    "from sklearn.preprocessing import StandardScaler\n",
    "from sklearn import svm\n",
    "from sklearn.svm import SVR\n",
    "from sklearn.model_selection import learning_curve\n",
    "import matplotlib.pyplot as plt\n",
    "from sklearn.svm import SVR, SVC\n",
    "from sklearn.linear_model import Ridge\n",
    "import math\n"
   ]
  },
  {
   "cell_type": "markdown",
   "metadata": {},
   "source": [
    "# Loading Built-In Set"
   ]
  },
  {
   "cell_type": "markdown",
   "metadata": {},
   "source": [
    "**Question 1**"
   ]
  },
  {
   "cell_type": "markdown",
   "metadata": {},
   "source": [
    "- Loading `diabetes` dataset"
   ]
  },
  {
   "cell_type": "code",
   "execution_count": 301,
   "metadata": {},
   "outputs": [],
   "source": [
    "diabetes: np.ndarray = load_diabetes()"
   ]
  },
  {
   "cell_type": "markdown",
   "metadata": {},
   "source": [
    "**Question 2**"
   ]
  },
  {
   "cell_type": "markdown",
   "metadata": {},
   "source": [
    "- Splitting data into training set and test set"
   ]
  },
  {
   "cell_type": "code",
   "execution_count": 302,
   "metadata": {},
   "outputs": [],
   "source": [
    "X_train, X_test, y_train, y_test = train_test_split(diabetes.data, diabetes.target, random_state=1206)"
   ]
  },
  {
   "cell_type": "code",
   "execution_count": 303,
   "metadata": {},
   "outputs": [
    {
     "name": "stdout",
     "output_type": "stream",
     "text": [
      "(331, 10)\n",
      "(111, 10)\n",
      "(331,)\n",
      "(111,)\n"
     ]
    }
   ],
   "source": [
    "print(X_train.shape)\n",
    "print(X_test.shape)\n",
    "print(y_train.shape)\n",
    "print(y_test.shape)"
   ]
  },
  {
   "cell_type": "code",
   "execution_count": 304,
   "metadata": {},
   "outputs": [
    {
     "name": "stdout",
     "output_type": "stream",
     "text": [
      "[-0.00551455 -0.04464164  0.02397278  0.00810098 -0.03459183 -0.03889169\n",
      "  0.02286863 -0.03949338 -0.01599887 -0.01350402]\n"
     ]
    }
   ],
   "source": [
    "# print a sample\n",
    "print(X_train[0])"
   ]
  },
  {
   "cell_type": "markdown",
   "metadata": {},
   "source": [
    "**Question 3**"
   ]
  },
  {
   "cell_type": "markdown",
   "metadata": {},
   "source": [
    "- Computing $R^2$ for the `Lasso` model using default parameters"
   ]
  },
  {
   "cell_type": "code",
   "execution_count": 305,
   "metadata": {},
   "outputs": [],
   "source": [
    "lasso: Lasso = Lasso().fit(X_train, y_train)"
   ]
  },
  {
   "cell_type": "code",
   "execution_count": 306,
   "metadata": {},
   "outputs": [
    {
     "name": "stdout",
     "output_type": "stream",
     "text": [
      "Training set score: 0.38147281844853587\n",
      "Test set score: 0.3092790709781681\n"
     ]
    }
   ],
   "source": [
    "print(f\"Training set score: {lasso.score(X_train, y_train)}\")\n",
    "print(f\"Test set score: {lasso.score(X_test, y_test)}\")"
   ]
  },
  {
   "cell_type": "markdown",
   "metadata": {},
   "source": [
    "- Printing the number of features used in the model"
   ]
  },
  {
   "cell_type": "code",
   "execution_count": 307,
   "metadata": {},
   "outputs": [
    {
     "name": "stdout",
     "output_type": "stream",
     "text": [
      "Number of features used: 3\n"
     ]
    }
   ],
   "source": [
    "print(f\"Number of features used: {np.sum(lasso.coef_ != 0)}\")"
   ]
  },
  {
   "cell_type": "markdown",
   "metadata": {},
   "source": [
    "- Printing names of the features used"
   ]
  },
  {
   "cell_type": "code",
   "execution_count": 308,
   "metadata": {},
   "outputs": [
    {
     "name": "stdout",
     "output_type": "stream",
     "text": [
      "Features used: ['age', 'sex', 'bmi', 'bp', 's1', 's2', 's3', 's4', 's5', 's6']\n"
     ]
    }
   ],
   "source": [
    "print(f\"Features used: {diabetes.feature_names}\")"
   ]
  },
  {
   "cell_type": "code",
   "execution_count": 309,
   "metadata": {},
   "outputs": [],
   "source": [
    "del X_train, X_test, y_train, y_test"
   ]
  },
  {
   "cell_type": "markdown",
   "metadata": {},
   "source": [
    "# Loading Diabetes from File"
   ]
  },
  {
   "cell_type": "markdown",
   "metadata": {},
   "source": [
    "**Question 4**"
   ]
  },
  {
   "cell_type": "markdown",
   "metadata": {},
   "source": [
    "- Importing data from file \n",
    "- Each sample is separated by `\t` hence it is set as the `delimiter`\n",
    "- The header (first row) is skipped as it is not data"
   ]
  },
  {
   "cell_type": "code",
   "execution_count": 310,
   "metadata": {},
   "outputs": [],
   "source": [
    "diabetes = np.genfromtxt('diabetes.data', delimiter='\t', skip_header=1)"
   ]
  },
  {
   "cell_type": "markdown",
   "metadata": {},
   "source": [
    "- Separating features `X` and labels `y`"
   ]
  },
  {
   "cell_type": "code",
   "execution_count": 311,
   "metadata": {},
   "outputs": [],
   "source": [
    "X: np.ndarray = diabetes[:, :-1]\n",
    "y: np.ndarray = diabetes[:, -1]"
   ]
  },
  {
   "cell_type": "code",
   "execution_count": 312,
   "metadata": {},
   "outputs": [
    {
     "name": "stdout",
     "output_type": "stream",
     "text": [
      "Whole Data:  [ 59.       2.      32.1    101.     157.      93.2     38.       4.\n",
      "   4.8598  87.     151.    ]\n",
      "X:  [ 59.       2.      32.1    101.     157.      93.2     38.       4.\n",
      "   4.8598  87.    ]\n",
      "y:  151.0\n"
     ]
    }
   ],
   "source": [
    "print(\"Whole Data: \", diabetes[0])\n",
    "print(\"X: \", X[0])\n",
    "print(\"y: \", y[0])"
   ]
  },
  {
   "cell_type": "markdown",
   "metadata": {},
   "source": [
    "**Question 5**"
   ]
  },
  {
   "cell_type": "markdown",
   "metadata": {},
   "source": [
    "- Splitting data into training sets and test sets"
   ]
  },
  {
   "cell_type": "code",
   "execution_count": 313,
   "metadata": {},
   "outputs": [],
   "source": [
    "X_train, X_test, y_train, y_test = train_test_split(X, y, random_state=1206)"
   ]
  },
  {
   "cell_type": "markdown",
   "metadata": {},
   "source": [
    "**Question 6**"
   ]
  },
  {
   "cell_type": "markdown",
   "metadata": {},
   "source": [
    "- Computing $R^2$ for the `Lasso` model using default parameters"
   ]
  },
  {
   "cell_type": "code",
   "execution_count": 314,
   "metadata": {},
   "outputs": [],
   "source": [
    "lasso: Lasso = Lasso().fit(X_train, y_train)"
   ]
  },
  {
   "cell_type": "code",
   "execution_count": 315,
   "metadata": {},
   "outputs": [
    {
     "name": "stdout",
     "output_type": "stream",
     "text": [
      "Training set score: 0.5322897171515191\n",
      "Test set score: 0.42628496708856434\n"
     ]
    }
   ],
   "source": [
    "print(f\"Training set score: {lasso.score(X_train, y_train)}\")\n",
    "print(f\"Test set score: {lasso.score(X_test, y_test)}\")"
   ]
  },
  {
   "cell_type": "markdown",
   "metadata": {},
   "source": [
    "- Printing the number of features used"
   ]
  },
  {
   "cell_type": "code",
   "execution_count": 316,
   "metadata": {},
   "outputs": [
    {
     "name": "stdout",
     "output_type": "stream",
     "text": [
      "Number of features used: 9\n"
     ]
    }
   ],
   "source": [
    "print(f\"Number of features used: {np.sum(lasso.coef_ != 0)}\")"
   ]
  },
  {
   "cell_type": "markdown",
   "metadata": {},
   "source": [
    "- Printing names of features used\n",
    "  - Loading the header from `diabetes.data` (as it was excluded)"
   ]
  },
  {
   "cell_type": "code",
   "execution_count": 317,
   "metadata": {},
   "outputs": [
    {
     "name": "stdout",
     "output_type": "stream",
     "text": [
      "['AGE' 'SEX' 'BMI' 'BP' 'S1' 'S2' 'S3' 'S4' 'S5' 'S6' 'Y']\n"
     ]
    }
   ],
   "source": [
    "header: np.ndarray = np.genfromtxt('diabetes.data', delimiter='\t', max_rows=1, dtype=str)\n",
    "print(header)"
   ]
  },
  {
   "cell_type": "markdown",
   "metadata": {},
   "source": [
    "## StandardScalar"
   ]
  },
  {
   "cell_type": "markdown",
   "metadata": {},
   "source": [
    "**Question 7**"
   ]
  },
  {
   "cell_type": "markdown",
   "metadata": {},
   "source": [
    "- Preprocessing data using `StandardScalar`"
   ]
  },
  {
   "cell_type": "code",
   "execution_count": 318,
   "metadata": {},
   "outputs": [],
   "source": [
    "scaler: StandardScaler = StandardScaler()\n",
    "\n",
    "X_train_scaled: StandardScaler = scaler.fit(X_train)\n",
    "X_test_scaled: StandardScaler = scaler.fit(X_test)\n",
    "\n",
    "X_train_scaled: StandardScaler = scaler.transform(X_train)\n",
    "X_test_scaled: StandardScaler = scaler.transform(X_test)"
   ]
  },
  {
   "cell_type": "markdown",
   "metadata": {},
   "source": [
    "**Question 8**"
   ]
  },
  {
   "cell_type": "markdown",
   "metadata": {},
   "source": [
    "- Computing $R^2$ for the `Lasso` model using default parameters"
   ]
  },
  {
   "cell_type": "code",
   "execution_count": 319,
   "metadata": {},
   "outputs": [],
   "source": [
    "lasso = Lasso().fit(X_train_scaled, y_train)"
   ]
  },
  {
   "cell_type": "code",
   "execution_count": 320,
   "metadata": {},
   "outputs": [
    {
     "name": "stdout",
     "output_type": "stream",
     "text": [
      "Training set score: 0.5337742073290201\n",
      "Test set score: 0.4315961656558963\n"
     ]
    }
   ],
   "source": [
    "print(f\"Training set score: {lasso.score(X_train_scaled, y_train)}\")\n",
    "print(f\"Test set score: {lasso.score(X_test_scaled, y_test)}\")"
   ]
  },
  {
   "cell_type": "markdown",
   "metadata": {},
   "source": [
    "- Printing the number of features used in the model"
   ]
  },
  {
   "cell_type": "code",
   "execution_count": 321,
   "metadata": {},
   "outputs": [
    {
     "name": "stdout",
     "output_type": "stream",
     "text": [
      "Number of features used: 8\n"
     ]
    }
   ],
   "source": [
    "print(f\"Number of features used: {np.sum(lasso.coef_ != 0)}\")"
   ]
  },
  {
   "cell_type": "markdown",
   "metadata": {},
   "source": [
    "- Printing names of features used"
   ]
  },
  {
   "cell_type": "code",
   "execution_count": 322,
   "metadata": {},
   "outputs": [
    {
     "name": "stdout",
     "output_type": "stream",
     "text": [
      "Features used: ['AGE' 'SEX' 'BMI' 'BP' 'S1' 'S2' 'S3' 'S4' 'S5' 'S6']\n"
     ]
    }
   ],
   "source": [
    "print(f\"Features used: {header[:-1]}\")"
   ]
  },
  {
   "cell_type": "markdown",
   "metadata": {},
   "source": [
    "## Plotting"
   ]
  },
  {
   "cell_type": "code",
   "execution_count": 323,
   "metadata": {},
   "outputs": [
    {
     "name": "stdout",
     "output_type": "stream",
     "text": [
      "Training set score: 0.5394187103851991\n",
      "Test set score: 0.4357485463667913\n",
      "Number of features used: 10\n"
     ]
    }
   ],
   "source": [
    "lasso001 = Lasso(alpha=0.01, max_iter=100000).fit(X_train_scaled, y_train)\n",
    "print(f\"Training set score: {lasso001.score(X_train_scaled, y_train)}\")\n",
    "print(f\"Test set score: {lasso001.score(X_test_scaled, y_test)}\")\n",
    "print(f\"Number of features used: {np.sum(lasso001.coef_ != 0)}\")"
   ]
  },
  {
   "cell_type": "code",
   "execution_count": 324,
   "metadata": {},
   "outputs": [
    {
     "name": "stdout",
     "output_type": "stream",
     "text": [
      "Training set score: 0.5394260835459506\n",
      "Test set score: 0.4355856643574041\n",
      "Number of features used: 10\n"
     ]
    }
   ],
   "source": [
    "lasso00001 = Lasso(alpha=0.0001, max_iter=100000).fit(X_train_scaled, y_train)\n",
    "print(f\"Training set score: {lasso00001.score(X_train_scaled, y_train)}\")\n",
    "print(f\"Test set score: {lasso00001.score(X_test_scaled, y_test)}\")\n",
    "print(f\"Number of features used: {np.sum(lasso00001.coef_ != 0)}\")"
   ]
  },
  {
   "cell_type": "code",
   "execution_count": 325,
   "metadata": {},
   "outputs": [
    {
     "data": {
      "text/plain": [
       "[<matplotlib.lines.Line2D at 0x7f5221dbe7d0>]"
      ]
     },
     "execution_count": 325,
     "metadata": {},
     "output_type": "execute_result"
    },
    {
     "data": {
      "image/png": "[encoded data removed]",
      "text/plain": [
       "<Figure size 640x480 with 1 Axes>"
      ]
     },
     "metadata": {},
     "output_type": "display_data"
    }
   ],
   "source": [
    "plt.xlabel(\"Alpha\")\n",
    "plt.ylabel(\"Number of Features Used\")\n",
    "plt.plot(lasso.coef_, 's', label=\"Lasso alpha=1\")\n",
    "plt.plot(lasso001.coef_, '^', label=\"Lasso alpha=0.01\")\n",
    "plt.plot(lasso00001.coef_, 'v', label=\"Lasso alpha=0.0001\")"
   ]
  },
  {
   "cell_type": "code",
   "execution_count": 326,
   "metadata": {},
   "outputs": [
    {
     "data": {
      "text/plain": [
       "[<matplotlib.lines.Line2D at 0x7f5221a59ad0>]"
      ]
     },
     "execution_count": 326,
     "metadata": {},
     "output_type": "execute_result"
    },
    {
     "data": {
      "image/png": "[encoded data removed]",
      "text/plain": [
       "<Figure size 640x480 with 1 Axes>"
      ]
     },
     "metadata": {},
     "output_type": "display_data"
    }
   ],
   "source": [
    "plt.xlabel(\"Alpha\")\n",
    "plt.ylabel(\"Number of Features Used\")\n",
    "plt.plot(lasso.coef_, 's', label=\"Lasso alpha=1\")\n",
    "# plt.plot(lasso001.coef_, '^', label=\"Lasso alpha=0.01\")\n",
    "# plt.plot(lasso00001.coef_, 'v', label=\"Lasso alpha=0.0001\")"
   ]
  },
  {
   "cell_type": "code",
   "execution_count": 327,
   "metadata": {},
   "outputs": [
    {
     "data": {
      "text/plain": [
       "[<matplotlib.lines.Line2D at 0x7f5232192290>]"
      ]
     },
     "execution_count": 327,
     "metadata": {},
     "output_type": "execute_result"
    },
    {
     "data": {
      "image/png": "[encoded data removed]",
      "text/plain": [
       "<Figure size 640x480 with 1 Axes>"
      ]
     },
     "metadata": {},
     "output_type": "display_data"
    }
   ],
   "source": [
    "plt.xlabel(\"Alpha\")\n",
    "plt.ylabel(\"Number of Features Used\")\n",
    "# plt.plot(lasso.coef_, 's', label=\"Lasso alpha=1\")\n",
    "plt.plot(lasso001.coef_, '^', label=\"Lasso alpha=0.01\")\n",
    "# plt.plot(lasso00001.coef_, 'v', label=\"Lasso alpha=0.0001\")"
   ]
  },
  {
   "cell_type": "code",
   "execution_count": 328,
   "metadata": {},
   "outputs": [
    {
     "data": {
      "text/plain": [
       "[<matplotlib.lines.Line2D at 0x7f5213fa5110>]"
      ]
     },
     "execution_count": 328,
     "metadata": {},
     "output_type": "execute_result"
    },
    {
     "data": {
      "image/png": "[encoded data removed]",
      "text/plain": [
       "<Figure size 640x480 with 1 Axes>"
      ]
     },
     "metadata": {},
     "output_type": "display_data"
    }
   ],
   "source": [
    "plt.xlabel(\"Alpha\")\n",
    "plt.ylabel(\"Number of Features Used\")\n",
    "# plt.plot(lasso.coef_, 's', label=\"Lasso alpha=1\")\n",
    "# plt.plot(lasso001.coef_, '^', label=\"Lasso alpha=0.01\")\n",
    "plt.plot(lasso00001.coef_, 'v', label=\"Lasso alpha=0.0001\")"
   ]
  },
  {
   "cell_type": "code",
   "execution_count": 329,
   "metadata": {},
   "outputs": [
    {
     "data": {
      "text/plain": [
       "<matplotlib.legend.Legend at 0x7f5221c7da10>"
      ]
     },
     "execution_count": 329,
     "metadata": {},
     "output_type": "execute_result"
    },
    {
     "data": {
      "image/png": "[encoded data removed]",
      "text/plain": [
       "<Figure size 640x480 with 1 Axes>"
      ]
     },
     "metadata": {},
     "output_type": "display_data"
    }
   ],
   "source": [
    "train_sizes, train_scores, test_scores = learning_curve(Lasso(alpha=0.01, max_iter=100000), X_train_scaled, y_train, train_sizes=np.linspace(0.1, 1.0, 5), cv=5)\n",
    "train_scores_mean = np.mean(train_scores, axis=1)\n",
    "train_scores_std = np.std(train_scores, axis=1)\n",
    "test_scores_mean = np.mean(test_scores, axis=1)\n",
    "test_scores_std = np.std(test_scores, axis=1)\n",
    "plt.plot(train_sizes, train_scores_mean, 'o-', color=\"r\", label=\"Training score\")\n",
    "plt.plot(train_sizes, test_scores_mean, 'o-', color=\"g\", label=\"Cross-validation score\")\n",
    "plt.ylabel(\"Score\")\n",
    "plt.xlabel(\"Training examples\")\n",
    "plt.legend(loc=\"best\")"
   ]
  },
  {
   "cell_type": "code",
   "execution_count": 330,
   "metadata": {},
   "outputs": [
    {
     "data": {
      "text/plain": [
       "<matplotlib.legend.Legend at 0x7f5221ce6590>"
      ]
     },
     "execution_count": 330,
     "metadata": {},
     "output_type": "execute_result"
    },
    {
     "data": {
      "image/png": "[encoded data removed]",
      "text/plain": [
       "<Figure size 640x480 with 1 Axes>"
      ]
     },
     "metadata": {},
     "output_type": "display_data"
    }
   ],
   "source": [
    "train_sizes, train_scores, test_scores = learning_curve(Lasso(alpha=0.1, max_iter=100000), X_train_scaled, y_train, train_sizes=np.linspace(0.1, 1.0, 5), cv=5)\n",
    "train_scores_mean = np.mean(train_scores, axis=1)\n",
    "train_scores_std = np.std(train_scores, axis=1)\n",
    "test_scores_mean = np.mean(test_scores, axis=1)\n",
    "test_scores_std = np.std(test_scores, axis=1)\n",
    "plt.plot(train_sizes, train_scores_mean, 'o-', color=\"r\", label=\"Training score\")\n",
    "plt.plot(train_sizes, test_scores_mean, 'o-', color=\"g\", label=\"Cross-validation score\")\n",
    "plt.ylabel(\"Score\")\n",
    "plt.xlabel(\"Training examples\")\n",
    "plt.legend(loc=\"best\")"
   ]
  },
  {
   "cell_type": "code",
   "execution_count": 331,
   "metadata": {},
   "outputs": [
    {
     "data": {
      "text/plain": [
       "<matplotlib.legend.Legend at 0x7f52218422d0>"
      ]
     },
     "execution_count": 331,
     "metadata": {},
     "output_type": "execute_result"
    },
    {
     "data": {
      "image/png": "[encoded data removed]",
      "text/plain": [
       "<Figure size 640x480 with 1 Axes>"
      ]
     },
     "metadata": {},
     "output_type": "display_data"
    }
   ],
   "source": [
    "train_sizes, train_scores, test_scores = learning_curve(Lasso(alpha=1, max_iter=100000), X_train_scaled, y_train, train_sizes=np.linspace(0.1, 1.0, 5), cv=5)\n",
    "train_scores_mean = np.mean(train_scores, axis=1)\n",
    "train_scores_std = np.std(train_scores, axis=1)\n",
    "test_scores_mean = np.mean(test_scores, axis=1)\n",
    "test_scores_std = np.std(test_scores, axis=1)\n",
    "plt.plot(train_sizes, train_scores_mean, 'o-', color=\"r\", label=\"Training score\")\n",
    "plt.plot(train_sizes, test_scores_mean, 'o-', color=\"g\", label=\"Cross-validation score\")\n",
    "plt.ylabel(\"Score\")\n",
    "plt.xlabel(\"Training examples\")\n",
    "plt.legend(loc=\"best\")"
   ]
  },
  {
   "cell_type": "markdown",
   "metadata": {},
   "source": [
    "## Regression Models"
   ]
  },
  {
   "cell_type": "markdown",
   "metadata": {},
   "source": [
    "**Question 10**"
   ]
  },
  {
   "cell_type": "markdown",
   "metadata": {},
   "source": [
    "### Grid Search"
   ]
  },
  {
   "cell_type": "code",
   "execution_count": 332,
   "metadata": {},
   "outputs": [
    {
     "name": "stdout",
     "output_type": "stream",
     "text": [
      "Best cross-validation score: 0.5130276864730194\n",
      "Best parameters: {'alpha': 1}\n",
      "Training set score: 0.5337742073290201\n",
      "Test set score: 0.4315961656558963\n",
      "Number of features used: 8\n"
     ]
    }
   ],
   "source": [
    "param_grid: dict[str, int] = {'alpha': [0.0001, 0.001, 0.01, 0.1, 1, 10, 100]}\n",
    "grid: GridSearchCV = GridSearchCV(Lasso(), param_grid, cv=5)\n",
    "grid.fit(X_train_scaled, y_train)\n",
    "\n",
    "print(f\"Best cross-validation score: {grid.best_score_}\")\n",
    "print(f\"Best parameters: {grid.best_params_}\")\n",
    "\n",
    "print(f\"Training set score: {grid.score(X_train_scaled, y_train)}\")\n",
    "print(f\"Test set score: {grid.score(X_test_scaled, y_test)}\")\n",
    "print(f\"Number of features used: {np.sum(grid.best_estimator_.coef_ != 0)}\")"
   ]
  },
  {
   "cell_type": "markdown",
   "metadata": {},
   "source": [
    "### Lasso"
   ]
  },
  {
   "cell_type": "code",
   "execution_count": 333,
   "metadata": {},
   "outputs": [
    {
     "name": "stdout",
     "output_type": "stream",
     "text": [
      "Best parameters: {'alpha': 0.1}\n",
      "Training set score: 0.5386930162142083\n",
      "Test set score (cross-validation): 0.4367551192131277\n",
      "Number of features used: 9\n"
     ]
    }
   ],
   "source": [
    "best_score: float = 0\n",
    "for gamma in [0.0001, 0.001, 0.01, 0.1, 1, 10, 100]:\n",
    "\tlasso = Lasso(alpha=gamma, max_iter=100000).fit(X_train_scaled, y_train)\n",
    "\tscore = lasso.score(X_test_scaled, y_test)\n",
    "\tif score > best_score:\n",
    "\t\tbest_score = score\n",
    "\t\tbest_parameters = {'alpha': gamma}\n",
    "\n",
    "lasso = Lasso(**best_parameters).fit(X_train_scaled, y_train)\n",
    "\n",
    "print(f\"Best parameters: {best_parameters}\")\n",
    "print(f\"Training set score: {lasso.score(X_train_scaled, y_train)}\")\n",
    "print(f\"Test set score (cross-validation): {lasso.score(X_test_scaled, y_test)}\")\n",
    "print(f\"Number of features used: {np.sum(lasso.coef_ != 0)}\")"
   ]
  },
  {
   "cell_type": "markdown",
   "metadata": {},
   "source": [
    "### Support Vector Regression"
   ]
  },
  {
   "cell_type": "code",
   "execution_count": 334,
   "metadata": {},
   "outputs": [
    {
     "name": "stdout",
     "output_type": "stream",
     "text": [
      "Best parameters: {'C': 100, 'gamma': 0.01}\n",
      "Training set score: 0.5605745648309347\n",
      "Test set score (cross-validation): 0.4402521028312093\n",
      "Number of support vectors: 331\n"
     ]
    }
   ],
   "source": [
    "best_score: float = 0\n",
    "for gamma in [0.0001, 0.001, 0.01, 0.1, 1, 10, 100]:\n",
    "\tfor C in [0.0001, 0.001, 0.01, 0.1, 1, 10, 100]:\n",
    "\t\tsvr = SVR(gamma=gamma, C=C).fit(X_train_scaled, y_train)\n",
    "\t\tscore = svr.score(X_test_scaled, y_test)\n",
    "\t\tif score > best_score:\n",
    "\t\t\tbest_score = score\n",
    "\t\t\tbest_parameters = {'C': C, 'gamma': gamma}\n",
    "\n",
    "svr = SVR(**best_parameters).fit(X_train_scaled, y_train)\n",
    "\n",
    "print(f\"Best parameters: {best_parameters}\")\n",
    "print(f\"Training set score: {svr.score(X_train_scaled, y_train)}\")\n",
    "print(f\"Test set score (cross-validation): {svr.score(X_test_scaled, y_test)}\")\n",
    "print(f\"Number of support vectors: {svr.support_vectors_.shape[0]}\")"
   ]
  },
  {
   "cell_type": "markdown",
   "metadata": {},
   "source": [
    "### Ridge Regression"
   ]
  },
  {
   "cell_type": "code",
   "execution_count": 335,
   "metadata": {},
   "outputs": [
    {
     "name": "stdout",
     "output_type": "stream",
     "text": [
      "Best parameters: {'alpha': 0.001}\n",
      "Training set score: 0.5394260840483416\n",
      "Test set score: 0.4355826857407178\n",
      "Number of features used: 10\n"
     ]
    }
   ],
   "source": [
    "best_score: float = 0\n",
    "for alpha in [0.001, 0.01, 0.1, 1, 10, 100]: # try different values for alpha\n",
    "\tridge: Ridge = Ridge(alpha=alpha) # build the model\n",
    "\tridge.fit(X_train, y_train) # train the model\n",
    "\tscore: float = ridge.score(X_test, y_test) # evaluate the model on the test set\n",
    "\tif score > best_score: # if we got a better score, store the score and parameters\n",
    "\t\tbest_score = score # store the best score\n",
    "\t\tbest_parameters = {'alpha': alpha} # store the best parameters\n",
    "\n",
    "ridge: Ridge = Ridge(**best_parameters) # build the model with the best parameters\n",
    "ridge.fit(X_train, y_train) # train the model\n",
    "\n",
    "print(f\"Best parameters: {best_parameters}\")\n",
    "print(f\"Training set score: {ridge.score(X_train, y_train)}\") # evaluate the model on the training set\n",
    "print(f\"Test set score: {ridge.score(X_test, y_test)}\") # evaluate the model on the test set\n",
    "print(f\"Number of features used: {np.sum(ridge.coef_ != 0)}\") # count the number of features used"
   ]
  },
  {
   "cell_type": "markdown",
   "metadata": {},
   "source": [
    "### Comparison"
   ]
  },
  {
   "cell_type": "markdown",
   "metadata": {},
   "source": [
    "#### Accuracy"
   ]
  },
  {
   "cell_type": "markdown",
   "metadata": {},
   "source": [
    "- Comparing accuracy between several regression models\n",
    "  - Grid Search\n",
    "  - Lasso\n",
    "  - Support Vector Regression\n",
    "  - Ridge Regression\n",
    "- The accuracy between all the models seems to be consistent"
   ]
  },
  {
   "cell_type": "code",
   "execution_count": 336,
   "metadata": {},
   "outputs": [
    {
     "data": {
      "text/plain": [
       "Text(0.5, 0, 'Model')"
      ]
     },
     "execution_count": 336,
     "metadata": {},
     "output_type": "execute_result"
    },
    {
     "data": {
      "image/png": "[encoded data removed]",
      "text/plain": [
       "<Figure size 640x480 with 1 Axes>"
      ]
     },
     "metadata": {},
     "output_type": "display_data"
    }
   ],
   "source": [
    "plt.bar(['Grid Search', 'Lasso', 'SVR', 'Ridge'], [grid.score(X_test_scaled, y_test), lasso.score(X_test_scaled, y_test), svr.score(X_test_scaled, y_test), ridge.score(X_test, y_test)])\n",
    "plt.yticks(np.arange(0, 0.5, 0.05))\n",
    "plt.ylabel('Accuracy')\n",
    "plt.xlabel('Model')"
   ]
  },
  {
   "cell_type": "markdown",
   "metadata": {},
   "source": [
    "#### Number of Features"
   ]
  },
  {
   "cell_type": "markdown",
   "metadata": {},
   "source": [
    "- Comparing number of features used by each model\n",
    "- Support Vector Regression uses the highest number of feature\n",
    "- Lasso, Grid Search and Ridge all use around the same number of features"
   ]
  },
  {
   "cell_type": "code",
   "execution_count": 337,
   "metadata": {},
   "outputs": [
    {
     "data": {
      "text/plain": [
       "Text(0.5, 0, 'Model')"
      ]
     },
     "execution_count": 337,
     "metadata": {},
     "output_type": "execute_result"
    },
    {
     "data": {
      "image/png": "[encoded data removed]",
      "text/plain": [
       "<Figure size 640x480 with 1 Axes>"
      ]
     },
     "metadata": {},
     "output_type": "display_data"
    }
   ],
   "source": [
    "plt.bar(['Grid Search', 'Lasso', 'SVR', 'Ridge'], [np.sum(grid.best_estimator_.coef_ != 0), np.sum(lasso.coef_ != 0), svr.support_vectors_.shape[0], np.sum(ridge.coef_ != 0)])\n",
    "plt.ylabel('Number of Features Used')\n",
    "plt.xlabel('Model')"
   ]
  },
  {
   "cell_type": "markdown",
   "metadata": {},
   "source": [
    "#### Best Alpha"
   ]
  },
  {
   "cell_type": "code",
   "execution_count": 338,
   "metadata": {},
   "outputs": [
    {
     "data": {
      "text/plain": [
       "<matplotlib.legend.Legend at 0x7f5221a3ab90>"
      ]
     },
     "execution_count": 338,
     "metadata": {},
     "output_type": "execute_result"
    },
    {
     "data": {
      "image/png": "[encoded data removed]",
      "text/plain": [
       "<Figure size 640x480 with 1 Axes>"
      ]
     },
     "metadata": {},
     "output_type": "display_data"
    }
   ],
   "source": [
    "# compare alpha values for all models\n",
    "plt.plot([0.0001, 0.001, 0.01, 0.1, 1, 10, 100], grid.cv_results_['mean_test_score'], label='Grid Search')\n",
    "plt.plot([0.0001, 0.001, 0.01, 0.1, 1, 10, 100], [lasso.score(X_test_scaled, y_test)] * 7, label='Lasso')\n",
    "plt.plot([0.0001, 0.001, 0.01, 0.1, 1, 10, 100], [svr.score(X_test_scaled, y_test)] * 7, label='SVR')\n",
    "plt.plot([0.0001, 0.001, 0.01, 0.1, 1, 10, 100], [ridge.score(X_test, y_test)] * 7, label='Ridge')\n",
    "plt.ylabel('Accuracy')\n",
    "plt.xlabel('Alpha')\n",
    "plt.xscale('log') # use a logarithmic scale for the x-axis\n",
    "plt.legend()"
   ]
  },
  {
   "cell_type": "code",
   "execution_count": 339,
   "metadata": {},
   "outputs": [
    {
     "data": {
      "text/plain": [
       "Text(0.5, 0, 'Model')"
      ]
     },
     "execution_count": 339,
     "metadata": {},
     "output_type": "execute_result"
    },
    {
     "data": {
      "image/png": "[encoded data removed]",
      "text/plain": [
       "<Figure size 640x480 with 1 Axes>"
      ]
     },
     "metadata": {},
     "output_type": "display_data"
    }
   ],
   "source": [
    "# compare best alpha values for all models in bar chart\n",
    "plt.bar(['Grid Search', 'Lasso', 'SVR', 'Ridge'], [grid.best_params_['alpha'], lasso.alpha, svr.gamma, ridge.alpha])\n",
    "plt.ylabel('Alpha')\n",
    "plt.xlabel('Model')\n"
   ]
  },
  {
   "cell_type": "markdown",
   "metadata": {},
   "source": [
    "# Conformal Prediction"
   ]
  },
  {
   "cell_type": "markdown",
   "metadata": {},
   "source": [
    "**Question 11**"
   ]
  },
  {
   "cell_type": "markdown",
   "metadata": {},
   "source": [
    "## Splitting Data into Training Set Proper & Validation Sets"
   ]
  },
  {
   "cell_type": "markdown",
   "metadata": {},
   "source": [
    "*Part A*"
   ]
  },
  {
   "cell_type": "markdown",
   "metadata": {},
   "source": [
    "- Splitting the data into training set and test set again (just in case)\n",
    "  - As the variables may have been tempered with\n",
    "- Splitting the training set into training set and validation set\n",
    "  - Similar to splitting data into test and training sets\n",
    "  - `test_size` in this case validation size is 99"
   ]
  },
  {
   "cell_type": "code",
   "execution_count": 340,
   "metadata": {},
   "outputs": [],
   "source": [
    "X_train, X_test, y_train, y_test = train_test_split(X, y, random_state=1206) # split the data into training and test sets\n",
    "X_train_pr, X_val, y_train_pr, y_val = train_test_split(X_train, y_train, test_size=99, random_state=1206) # split the training set into training and validation sets"
   ]
  },
  {
   "cell_type": "code",
   "execution_count": 341,
   "metadata": {},
   "outputs": [
    {
     "name": "stdout",
     "output_type": "stream",
     "text": [
      "X_val.shape: (99, 10), y_val.shape: (99,)\n"
     ]
    }
   ],
   "source": [
    "print(f\"X_val.shape: {X_val.shape}, y_val.shape: {y_val.shape}\") # print the shapes of the validation set"
   ]
  },
  {
   "cell_type": "markdown",
   "metadata": {},
   "source": [
    "## Normalize Data"
   ]
  },
  {
   "cell_type": "markdown",
   "metadata": {},
   "source": [
    "*Part B*"
   ]
  },
  {
   "cell_type": "code",
   "execution_count": 342,
   "metadata": {},
   "outputs": [],
   "source": [
    "scalar: StandardScaler = StandardScaler()\n",
    "\n",
    "X_train_pr_scaled: np.ndarray = scalar.fit(X_train_pr)\n",
    "X_train_pr_scaled: np.ndarray = scalar.transform(X_train_pr)\n",
    "\n",
    "X_val_scaled: np.ndarray = scalar.fit(X_val)\n",
    "X_val_scaled: np.ndarray = scalar.transform(X_val)"
   ]
  },
  {
   "cell_type": "markdown",
   "metadata": {},
   "source": [
    "## Computing Distance"
   ]
  },
  {
   "cell_type": "markdown",
   "metadata": {},
   "source": [
    "*Part C*"
   ]
  },
  {
   "cell_type": "markdown",
   "metadata": {},
   "source": [
    "- Function computes the distance between 2 points \n",
    "  - One point will be used from the training set and the other from the testing set\n",
    "  - The last column is excluded as it is a label where the first few rows are features\n",
    "  - $(sample.x, label.y)$"
   ]
  },
  {
   "cell_type": "code",
   "execution_count": 343,
   "metadata": {},
   "outputs": [],
   "source": [
    "# compute distance between 2 points in the validation set and test set\n",
    "def distance(x1: np.ndarray, x2: np.ndarray) -> float:\n",
    "\t\"\"\"Computes the distance between 2 points using the Euclidean distance formula.\n",
    "\n",
    "\tArgs:\n",
    "\t\tx1 (np.ndarray): distance from point 1\n",
    "\t\tx2 (np.ndarray): distance to point 2\n",
    "\n",
    "\tReturns:\n",
    "\t\tfloat: distance between 2 points\n",
    "\t\"\"\"\n",
    "\treturn np.sqrt(np.sum((x1 - x2) ** 2))"
   ]
  },
  {
   "cell_type": "code",
   "execution_count": 344,
   "metadata": {},
   "outputs": [
    {
     "name": "stdout",
     "output_type": "stream",
     "text": [
      "5.37794705193643\n"
     ]
    }
   ],
   "source": [
    "print(distance(X_train_pr_scaled[0], X_val_scaled[1]))"
   ]
  },
  {
   "cell_type": "markdown",
   "metadata": {},
   "source": [
    "## Computing Scores"
   ]
  },
  {
   "cell_type": "markdown",
   "metadata": {},
   "source": [
    "- Function computes the modulus of a `number`\n",
    "  - $|number|$ \n",
    "- This is required for the formula $ɑ = |y-\\hat{y}|$"
   ]
  },
  {
   "cell_type": "code",
   "execution_count": 345,
   "metadata": {},
   "outputs": [],
   "source": [
    "def modulus(number: float) -> float:\n",
    "\t\"\"\"Computes the modulus of a number.\n",
    "\n",
    "\tArgs:\n",
    "\t\tnumber (float): number to compute the modulus of\n",
    "\n",
    "\tReturns:\n",
    "\t\tfloat: modulus of the number\n",
    "\t\"\"\"\n",
    "\tif (number < 0):\n",
    "\t\treturn -number\n",
    "\treturn number"
   ]
  },
  {
   "cell_type": "markdown",
   "metadata": {},
   "source": [
    "- Computes the score for each combination of nearest neighbours between the calibration set and proper set\n",
    "- The `score` is $ɑ = |y-\\hat{y}|$"
   ]
  },
  {
   "cell_type": "code",
   "execution_count": 346,
   "metadata": {},
   "outputs": [],
   "source": [
    "def score(x1: np.ndarray, x2: np.ndarray) -> float:\n",
    "\t\"\"\"Computes the score by subtracting the distance between the calibration and test sample.\n",
    "\n",
    "\tArgs:\n",
    "\t\tx1 (np.ndarray): calibration sample\n",
    "\t\tx2 (np.ndarray): test sample\n",
    "\n",
    "\tReturns:\n",
    "\t\tfloat: score\n",
    "\t\"\"\"\n",
    "\treturn modulus(x1 - x2)"
   ]
  },
  {
   "cell_type": "code",
   "execution_count": 347,
   "metadata": {},
   "outputs": [
    {
     "name": "stdout",
     "output_type": "stream",
     "text": [
      "209.0\n"
     ]
    }
   ],
   "source": [
    "print(score(y_train_pr[0], y_val[1]))"
   ]
  },
  {
   "cell_type": "markdown",
   "metadata": {},
   "source": [
    "## Sorting Distances by Score"
   ]
  },
  {
   "cell_type": "markdown",
   "metadata": {},
   "source": [
    "- Sorts the list in ascending order by `score`"
   ]
  },
  {
   "cell_type": "code",
   "execution_count": 348,
   "metadata": {},
   "outputs": [],
   "source": [
    "def sort(table: list[dict[str, any]]) -> list[dict[str, any]]:\n",
    "\t\"\"\"Sorts the table by score.\n",
    "\n",
    "\tArgs:\n",
    "\t\ttable (list[dict[str, any]]): table to sort\n",
    "\n",
    "\tReturns:\n",
    "\t\tlist[dict[str, any]]: sorted table\n",
    "\t\"\"\"\n",
    "\treturn sorted(table, key=lambda table : table[0][3])"
   ]
  },
  {
   "cell_type": "markdown",
   "metadata": {},
   "source": [
    "## Final Algorithm"
   ]
  },
  {
   "cell_type": "markdown",
   "metadata": {},
   "source": [
    "- Returns a table containing:\n",
    "  - Combination of evaluation sample and nearest proper sample\n",
    "  - For each combination, it stores the distances and score\n",
    "- Algorithm:\n",
    "  - For each calibration sample, it computes the closest proper training sample which are both then stored\n",
    "  - The distance between the calibration sample and proper training sample is also stored\n",
    "  - The score is computed by using the following formula $ɑ = |y-\\hat{y}|$ which is then stored\n",
    "  - The list is then sorted in ascending order by its score"
   ]
  },
  {
   "cell_type": "code",
   "execution_count": 349,
   "metadata": {},
   "outputs": [],
   "source": [
    "def conformal_prediction(X_train: np.ndarray, X_val: np.ndarray, y_train: np.ndarray, y_val: np.ndarray) -> list[dict]:\n",
    "\t\"\"\"Computes the conformal prediction.\n",
    "\tReturns a sorted list of dictionaries with the following keys:\n",
    "\t\t- 'calibration': calibration sample\n",
    "\t\t- 'proper': proper training sample\n",
    "\t\t- 'distance': distance between the calibration and proper training sample\n",
    "\t\t- 'score': |y-yhat|\n",
    "\n",
    "\tArgs:\n",
    "\t\tX_train (np.ndarray): proper training features\n",
    "\t\tX_val (np.ndarray): calibration features\n",
    "\t\ty_train (np.ndarray): proper training labels\n",
    "\t\ty_val (np.ndarray): calibration labels\n",
    "\n",
    "\tReturns:\n",
    "\t\tlist[dict]: sorted list of dictionaries\n",
    "\t\"\"\"\n",
    "\ttables: list = []\n",
    "\tfor X_val_index, X_val_element in enumerate(X_val):\n",
    "\t\tfor X_train_index, X_train_element in enumerate(X_train):\n",
    "\t\t\ttable: list = [0, 0, 0, 0]\n",
    "\t\t\ttable[0] = X_train_element\n",
    "\t\t\ttable[1] = X_val_element\n",
    "\t\t\ttable[2] = distance(X_train_element, X_val_element)\n",
    "\t\t\ttable[3] = score(y_train[X_train_index], y_val[X_val_index])\n",
    "\t\t\ttables.append(table)\n",
    "\treturn sort(tables)\n",
    "\t# return (tables)"
   ]
  },
  {
   "cell_type": "code",
   "execution_count": 350,
   "metadata": {},
   "outputs": [],
   "source": [
    "table: list = conformal_prediction(X_train_pr_scaled, X_val_scaled, y_train_pr, y_val)"
   ]
  },
  {
   "cell_type": "code",
   "execution_count": 351,
   "metadata": {},
   "outputs": [],
   "source": [
    "# row: int = 0\n",
    "# for key in (table[0].keys()):\n",
    "# \tprint(f\"- {key}: {table[row][key]}\")"
   ]
  },
  {
   "cell_type": "code",
   "execution_count": 352,
   "metadata": {},
   "outputs": [
    {
     "name": "stdout",
     "output_type": "stream",
     "text": [
      "73.0\n",
      "229.0\n",
      "14.0\n",
      "55.0\n",
      "12.0\n"
     ]
    }
   ],
   "source": [
    "for i in range(5):\n",
    "\tprint(table[i][3])"
   ]
  },
  {
   "cell_type": "markdown",
   "metadata": {},
   "source": [
    "## Compute Predicted Sample $k$"
   ]
  },
  {
   "cell_type": "markdown",
   "metadata": {},
   "source": [
    "- The predicted sample is computed with the following formula:\n",
    "$$k=(1-ε)(m+1)$$"
   ]
  },
  {
   "cell_type": "code",
   "execution_count": 353,
   "metadata": {},
   "outputs": [],
   "source": [
    "def compute_predicted_sample(tables: list[dict], epsilon: float) -> float:\n",
    "\t\"\"\"Computes the predicted label\n",
    "\t\n",
    "\tArgs:\n",
    "\t\ttables (list[dict]): sorted list of dictionaries\n",
    "\t\tepsilon (float): significance level\n",
    "\t\t\n",
    "\t\tReturns:\n",
    "\t\t\tfloat: predicted label\t\n",
    "\t\"\"\"\n",
    "\treturn ((1 - epsilon) * (len(tables) + 1))"
   ]
  },
  {
   "cell_type": "code",
   "execution_count": 354,
   "metadata": {},
   "outputs": [
    {
     "name": "stdout",
     "output_type": "stream",
     "text": [
      "K_1 (0.05):  21820.55\n",
      "K_2 (0.2):  18375.2\n"
     ]
    }
   ],
   "source": [
    "k_1: float = compute_predicted_sample(table, 0.05)\n",
    "k_2: float = compute_predicted_sample(table, 0.2)\n",
    "\n",
    "print(f\"K_1 (0.05): \", k_1)\n",
    "print(f\"K_2 (0.2): \", k_2)"
   ]
  },
  {
   "cell_type": "code",
   "execution_count": 355,
   "metadata": {},
   "outputs": [],
   "source": [
    "# def get_prediction(k: float, y_train_pr) -> float:\n",
    "# \tcurrent_highest_distance: float = 0\n",
    "# \tfor index, element in enumerate(y_train_pr):\n",
    "# \t\t# convert vector y_train_pr to scalar\n",
    "\t\t\n",
    "# \tx: float = distance(X_train_pr, k)\n",
    "# \tprint(x)\n",
    "\n",
    "# get_prediction(k_1, y_train_pr[0])"
   ]
  },
  {
   "cell_type": "code",
   "execution_count": 356,
   "metadata": {},
   "outputs": [],
   "source": [
    "# compute length of the prediction intervals for the test set\n",
    "def compute_prediction_interval_length(tables: list[dict], k: float) -> float:\n",
    "\t\"\"\"Computes the length of the prediction interval.\n",
    "\n",
    "\tArgs:\n",
    "\t\ttables (list[dict]): sorted list of dictionaries\n",
    "\t\tk (float): predicted sample\n",
    "\n",
    "\tReturns:\n",
    "\t\tfloat: length of the prediction interval\n",
    "\t\"\"\"\n",
    "\treturn tables[int(k)][2]"
   ]
  },
  {
   "cell_type": "markdown",
   "metadata": {},
   "source": [
    "## New"
   ]
  },
  {
   "cell_type": "markdown",
   "metadata": {},
   "source": [
    "### Lasso"
   ]
  },
  {
   "cell_type": "code",
   "execution_count": 357,
   "metadata": {},
   "outputs": [
    {
     "name": "stdout",
     "output_type": "stream",
     "text": [
      "Optimal alpha: 0.1\n",
      "Best score: 0.5139464064158494\n"
     ]
    }
   ],
   "source": [
    "from sklearn.model_selection import cross_val_score\n",
    "from sklearn.linear_model import Lasso\n",
    "\n",
    "c = 0.05\n",
    "best_score_conformal = np.NINF\n",
    "\n",
    "while c <= 5:\n",
    "\tlasso_model_check = Lasso(alpha=c).fit(X_train_pr_scaled, y_train_pr)\n",
    "\tscores_conformal = cross_val_score(lasso_model_check, X_train_pr_scaled, y_train_pr, cv=5)\n",
    "\tscores_conformal = np.mean(scores_conformal)\n",
    "\tc += 0.05\n",
    "\tif scores_conformal > best_score_conformal:\n",
    "\t\talpha_optimal_conformal = c\n",
    "\t\tbest_score_conformal = scores_conformal\n",
    "\n",
    "lasso_model = Lasso(alpha=alpha_optimal_conformal).fit(X_train_pr_scaled, y_train_pr)\n",
    "print(f\"Optimal alpha: {alpha_optimal_conformal}\")\n",
    "print(f\"Best score: {best_score_conformal}\")"
   ]
  },
  {
   "cell_type": "markdown",
   "metadata": {},
   "source": [
    "### Inductive Conformal Prediction"
   ]
  },
  {
   "cell_type": "code",
   "execution_count": 358,
   "metadata": {},
   "outputs": [],
   "source": [
    "def compute_alpha(y_hat_calibration_list: np.ndarray, y_val: np.ndarray) -> np.ndarray:\n",
    "\treturn (np.sort(abs(y_hat_calibration_list - y_val))) # alpha values for the calibration set alpha = |y-hat - y|\n",
    "\n",
    "def compute_k(alpha_values: np.ndarray, significance_level: float) -> int:\n",
    "\treturn (math.ceil((1 - significance_level) * len(alpha_values))) # k = ceil((1 - significance_level) * len(alpha_values))\n",
    "\n",
    "def compute_test_error(y_test: np.ndarray, count_c: int) -> float:\n",
    "\treturn (len(y_test) - count_c) / len(y_test) # formula = (n - count) / n\n",
    "\n",
    "def compute_amplitude(y_hat_test_list: np.ndarray) -> list[int, list[float]]:\n",
    "\ty_c: list[tuple[float]] = [[]] # list of (sample, distance)\n",
    "\tcount_c: int = 0 # number of samples within the prediction interval\n",
    "\tamplitude: list[float] = [] # list of amplitudes\n",
    "\t\n",
    "\tfor index, element in enumerate(y_hat_test_list): # for each element in the test set\n",
    "\t\ty_min: float = element - c # y_min = y_hat - c\n",
    "\t\ty_max: float = element + c # y_max = y_hat + c\n",
    "\t\ty_c.append((y_min, y_max)) # append the interval to the list of intervals\n",
    "\n",
    "\t\tamplitude.append(abs(y_max - y_min)) # append the length of the interval to the list of lengths\n",
    "\n",
    "\t\tif y_min <= element <= y_max: # if the element is in the interval\n",
    "\t\t\tcount_c += 1 # increment the count\n",
    "\n",
    "\treturn (count_c, amplitude)\n",
    "\n",
    "def conformal(X_val_scaled: np.ndarray, y_val: np.ndarray, X_test_scaled: np.ndarray, y_test: np.ndarray, significance_level: float):\n",
    "\ty_hat_test_list: list[float] = lasso_model.predict(X_val_scaled) # y-hat test set\n",
    "\tcount_c, amplitude = compute_amplitude(y_hat_test_list)\n",
    "\ty_hat_calibration_list: np.ndarray = lasso_model.predict(X_val_scaled) # y-hat calibration set\n",
    "\talpha_values: list[float] = compute_alpha(y_hat_calibration_list, y_val) \n",
    "\tk: int = compute_k(alpha_values, significance_level) \n",
    "\tc: float = alpha_values[k] # c value for the calibration set\n",
    "\ttest_error: float = compute_test_error(y_test, count_c) # compute the test error\n",
    "\treturn (c, test_error, amplitude)"
   ]
  },
  {
   "cell_type": "code",
   "execution_count": 359,
   "metadata": {},
   "outputs": [
    {
     "name": "stdout",
     "output_type": "stream",
     "text": [
      "Error Rate: 0.10810810810810811\n",
      "Amplitude (Length of Interval): 10.09999999999997\n"
     ]
    }
   ],
   "source": [
    "c, test_error, amplitude = conformal(X_val_scaled, y_val, X_test_scaled, y_test, 0.05)\n",
    "print(f\"Error Rate: {test_error}\")\n",
    "print(f\"Amplitude (Length of Interval): {np.mean(amplitude)}\")"
   ]
  },
  {
   "cell_type": "code",
   "execution_count": 360,
   "metadata": {},
   "outputs": [
    {
     "name": "stdout",
     "output_type": "stream",
     "text": [
      "Error Rate: 0.10810810810810811\n",
      "Amplitude (Length of Interval): 261.09884503133054\n"
     ]
    }
   ],
   "source": [
    "c, test_error, amplitude = conformal(X_val_scaled, y_val, X_test_scaled, y_test, 0.2)\n",
    "print(f\"Error Rate: {test_error}\")\n",
    "print(f\"Amplitude (Length of Interval): {np.mean(amplitude)}\")"
   ]
  }
 ],
 "metadata": {
  "kernelspec": {
   "display_name": "Python 3.11.0 ('anaconda-pOKeClin-py3.11')",
   "language": "python",
   "name": "python3"
  },
  "language_info": {
   "codemirror_mode": {
    "name": "ipython",
    "version": 3
   },
   "file_extension": ".py",
   "mimetype": "text/x-python",
   "name": "python",
   "nbconvert_exporter": "python",
   "pygments_lexer": "ipython3",
   "version": "3.11.0"
  },
  "orig_nbformat": 4,
  "vscode": {
   "interpreter": {
    "hash": "892714c652f493a6d49359491524d2a8c982297775bb9a8664a3f7cea223b623"
   }
  }
 },
 "nbformat": 4,
 "nbformat_minor": 2
}
