{
 "cells": [
  {
   "cell_type": "code",
   "execution_count": 344,
   "metadata": {},
   "outputs": [],
   "source": [
    "from sklearn.datasets import load_diabetes\n",
    "from sklearn.model_selection import train_test_split\n",
    "import numpy as np\n",
    "from sklearn.linear_model import Lasso\n",
    "from sklearn.model_selection import GridSearchCV\n",
    "from sklearn.preprocessing import StandardScaler\n",
    "from sklearn import svm\n",
    "from sklearn.svm import SVR\n"
   ]
  },
  {
   "cell_type": "markdown",
   "metadata": {},
   "source": [
    "# Loading Built-In Set"
   ]
  },
  {
   "cell_type": "markdown",
   "metadata": {},
   "source": [
    "**Question 1**"
   ]
  },
  {
   "cell_type": "markdown",
   "metadata": {},
   "source": [
    "- Loading `diabetes` dataset"
   ]
  },
  {
   "cell_type": "code",
   "execution_count": 345,
   "metadata": {},
   "outputs": [],
   "source": [
    "diabetes: np.ndarray = load_diabetes()"
   ]
  },
  {
   "cell_type": "markdown",
   "metadata": {},
   "source": [
    "**Question 2**"
   ]
  },
  {
   "cell_type": "markdown",
   "metadata": {},
   "source": [
    "- Splitting data into training set and test set"
   ]
  },
  {
   "cell_type": "code",
   "execution_count": 346,
   "metadata": {},
   "outputs": [],
   "source": [
    "X_train, X_test, y_train, y_test = train_test_split(diabetes.data, diabetes.target, random_state=1206)"
   ]
  },
  {
   "cell_type": "markdown",
   "metadata": {},
   "source": [
    "**Question 3**"
   ]
  },
  {
   "cell_type": "markdown",
   "metadata": {},
   "source": [
    "- Computing $R^2$ for the `Lasso` model using default parameters"
   ]
  },
  {
   "cell_type": "code",
   "execution_count": 347,
   "metadata": {},
   "outputs": [],
   "source": [
    "lasso: Lasso = Lasso().fit(X_train, y_train)"
   ]
  },
  {
   "cell_type": "code",
   "execution_count": 348,
   "metadata": {},
   "outputs": [
    {
     "name": "stdout",
     "output_type": "stream",
     "text": [
      "Training set score: 0.38147281844853587\n",
      "Test set score: 0.3092790709781681\n"
     ]
    }
   ],
   "source": [
    "print(f\"Training set score: {lasso.score(X_train, y_train)}\")\n",
    "print(f\"Test set score: {lasso.score(X_test, y_test)}\")"
   ]
  },
  {
   "cell_type": "markdown",
   "metadata": {},
   "source": [
    "- Printing the number of features used in the model"
   ]
  },
  {
   "cell_type": "code",
   "execution_count": 349,
   "metadata": {},
   "outputs": [
    {
     "name": "stdout",
     "output_type": "stream",
     "text": [
      "Number of features used: 3\n"
     ]
    }
   ],
   "source": [
    "print(f\"Number of features used: {np.sum(lasso.coef_ != 0)}\")"
   ]
  },
  {
   "cell_type": "markdown",
   "metadata": {},
   "source": [
    "- Printing names of the features used"
   ]
  },
  {
   "cell_type": "code",
   "execution_count": 350,
   "metadata": {},
   "outputs": [
    {
     "name": "stdout",
     "output_type": "stream",
     "text": [
      "Features used: ['age', 'sex', 'bmi', 'bp', 's1', 's2', 's3', 's4', 's5', 's6']\n"
     ]
    }
   ],
   "source": [
    "print(f\"Features used: {diabetes.feature_names}\")"
   ]
  },
  {
   "cell_type": "code",
   "execution_count": 351,
   "metadata": {},
   "outputs": [],
   "source": [
    "del X_train, X_test, y_train, y_test"
   ]
  },
  {
   "cell_type": "markdown",
   "metadata": {},
   "source": [
    "# Loading Diabetes from File"
   ]
  },
  {
   "cell_type": "markdown",
   "metadata": {},
   "source": [
    "**Question 4**"
   ]
  },
  {
   "cell_type": "markdown",
   "metadata": {},
   "source": [
    "- Importing data from file \n",
    "- Each sample is separated by `\t` hence it is set as the `delimiter`\n",
    "- The header (first row) is skipped as it is not data"
   ]
  },
  {
   "cell_type": "code",
   "execution_count": 352,
   "metadata": {},
   "outputs": [],
   "source": [
    "diabetes = np.genfromtxt('diabetes.data', delimiter='\t', skip_header=1)"
   ]
  },
  {
   "cell_type": "markdown",
   "metadata": {},
   "source": [
    "- Separating features `X` and labels `y`"
   ]
  },
  {
   "cell_type": "code",
   "execution_count": 353,
   "metadata": {},
   "outputs": [],
   "source": [
    "X: np.ndarray = diabetes[:, :-1]\n",
    "y: np.ndarray = diabetes[:, -1]"
   ]
  },
  {
   "cell_type": "code",
   "execution_count": 354,
   "metadata": {},
   "outputs": [
    {
     "name": "stdout",
     "output_type": "stream",
     "text": [
      "Whole Data:  [ 59.       2.      32.1    101.     157.      93.2     38.       4.\n",
      "   4.8598  87.     151.    ]\n",
      "X:  [ 59.       2.      32.1    101.     157.      93.2     38.       4.\n",
      "   4.8598  87.    ]\n",
      "y:  151.0\n"
     ]
    }
   ],
   "source": [
    "print(\"Whole Data: \", diabetes[0])\n",
    "print(\"X: \", X[0])\n",
    "print(\"y: \", y[0])"
   ]
  },
  {
   "cell_type": "markdown",
   "metadata": {},
   "source": [
    "**Question 5**"
   ]
  },
  {
   "cell_type": "markdown",
   "metadata": {},
   "source": [
    "- Splitting data into training sets and test sets"
   ]
  },
  {
   "cell_type": "code",
   "execution_count": 355,
   "metadata": {},
   "outputs": [],
   "source": [
    "X_train, X_test, y_train, y_test = train_test_split(X, y, random_state=1206)"
   ]
  },
  {
   "cell_type": "markdown",
   "metadata": {},
   "source": [
    "**Question 6**"
   ]
  },
  {
   "cell_type": "markdown",
   "metadata": {},
   "source": [
    "- Computing $R^2$ for the `Lasso` model using default parameters"
   ]
  },
  {
   "cell_type": "code",
   "execution_count": 356,
   "metadata": {},
   "outputs": [],
   "source": [
    "lasso: Lasso = Lasso().fit(X_train, y_train)"
   ]
  },
  {
   "cell_type": "code",
   "execution_count": 357,
   "metadata": {},
   "outputs": [
    {
     "name": "stdout",
     "output_type": "stream",
     "text": [
      "Training set score: 0.5322897171515191\n",
      "Test set score: 0.42628496708856434\n"
     ]
    }
   ],
   "source": [
    "print(f\"Training set score: {lasso.score(X_train, y_train)}\")\n",
    "print(f\"Test set score: {lasso.score(X_test, y_test)}\")"
   ]
  },
  {
   "cell_type": "markdown",
   "metadata": {},
   "source": [
    "- Printing the number of features used"
   ]
  },
  {
   "cell_type": "code",
   "execution_count": 358,
   "metadata": {},
   "outputs": [
    {
     "name": "stdout",
     "output_type": "stream",
     "text": [
      "Number of features used: 9\n"
     ]
    }
   ],
   "source": [
    "print(f\"Number of features used: {np.sum(lasso.coef_ != 0)}\")"
   ]
  },
  {
   "cell_type": "markdown",
   "metadata": {},
   "source": [
    "- Printing names of features used\n",
    "  - Loading the header from `diabetes.data` (as it was excluded)"
   ]
  },
  {
   "cell_type": "code",
   "execution_count": 359,
   "metadata": {},
   "outputs": [
    {
     "name": "stdout",
     "output_type": "stream",
     "text": [
      "['AGE' 'SEX' 'BMI' 'BP' 'S1' 'S2' 'S3' 'S4' 'S5' 'S6' 'Y']\n"
     ]
    }
   ],
   "source": [
    "header: np.ndarray = np.genfromtxt('diabetes.data', delimiter='\t', max_rows=1, dtype=str)\n",
    "print(header)"
   ]
  },
  {
   "cell_type": "markdown",
   "metadata": {},
   "source": [
    "## StandardScalar"
   ]
  },
  {
   "cell_type": "markdown",
   "metadata": {},
   "source": [
    "**Question 7**"
   ]
  },
  {
   "cell_type": "markdown",
   "metadata": {},
   "source": [
    "- Preprocessing data using `StandardScalar`"
   ]
  },
  {
   "cell_type": "code",
   "execution_count": 360,
   "metadata": {},
   "outputs": [],
   "source": [
    "scaler: StandardScaler = StandardScaler()\n",
    "\n",
    "X_train_scaled: StandardScaler = scaler.fit(X_train)\n",
    "X_test_scaled: StandardScaler = scaler.fit(X_test)\n",
    "\n",
    "X_train_scaled: StandardScaler = scaler.transform(X_train)\n",
    "X_test_scaled: StandardScaler = scaler.transform(X_test)"
   ]
  },
  {
   "cell_type": "markdown",
   "metadata": {},
   "source": [
    "**Question 8**"
   ]
  },
  {
   "cell_type": "markdown",
   "metadata": {},
   "source": [
    "- Computing $R^2$ for the `Lasso` model using default parameters"
   ]
  },
  {
   "cell_type": "code",
   "execution_count": 361,
   "metadata": {},
   "outputs": [],
   "source": [
    "lasso = Lasso().fit(X_train_scaled, y_train)"
   ]
  },
  {
   "cell_type": "code",
   "execution_count": 362,
   "metadata": {},
   "outputs": [
    {
     "name": "stdout",
     "output_type": "stream",
     "text": [
      "Training set score: 0.5337742073290201\n",
      "Test set score: 0.4315961656558963\n"
     ]
    }
   ],
   "source": [
    "print(f\"Training set score: {lasso.score(X_train_scaled, y_train)}\")\n",
    "print(f\"Test set score: {lasso.score(X_test_scaled, y_test)}\")"
   ]
  },
  {
   "cell_type": "markdown",
   "metadata": {},
   "source": [
    "- Printing the number of features used in the model"
   ]
  },
  {
   "cell_type": "code",
   "execution_count": 363,
   "metadata": {},
   "outputs": [
    {
     "name": "stdout",
     "output_type": "stream",
     "text": [
      "Number of features used: 8\n"
     ]
    }
   ],
   "source": [
    "print(f\"Number of features used: {np.sum(lasso.coef_ != 0)}\")"
   ]
  },
  {
   "cell_type": "markdown",
   "metadata": {},
   "source": [
    "- Printing names of features used"
   ]
  },
  {
   "cell_type": "code",
   "execution_count": 364,
   "metadata": {},
   "outputs": [
    {
     "name": "stdout",
     "output_type": "stream",
     "text": [
      "Features used: ['AGE' 'SEX' 'BMI' 'BP' 'S1' 'S2' 'S3' 'S4' 'S5' 'S6']\n"
     ]
    }
   ],
   "source": [
    "print(f\"Features used: {header[:-1]}\")"
   ]
  },
  {
   "cell_type": "markdown",
   "metadata": {},
   "source": [
    "## Plotting"
   ]
  },
  {
   "cell_type": "code",
   "execution_count": 365,
   "metadata": {},
   "outputs": [
    {
     "name": "stdout",
     "output_type": "stream",
     "text": [
      "Training set score: 0.5394187103851991\n",
      "Test set score: 0.4357485463667913\n",
      "Number of features used: 10\n"
     ]
    }
   ],
   "source": [
    "lasso001 = Lasso(alpha=0.01, max_iter=100000).fit(X_train_scaled, y_train)\n",
    "print(f\"Training set score: {lasso001.score(X_train_scaled, y_train)}\")\n",
    "print(f\"Test set score: {lasso001.score(X_test_scaled, y_test)}\")\n",
    "print(f\"Number of features used: {np.sum(lasso001.coef_ != 0)}\")"
   ]
  },
  {
   "cell_type": "code",
   "execution_count": 366,
   "metadata": {},
   "outputs": [
    {
     "name": "stdout",
     "output_type": "stream",
     "text": [
      "Training set score: 0.5394260835459506\n",
      "Test set score: 0.4355856643574041\n",
      "Number of features used: 10\n"
     ]
    }
   ],
   "source": [
    "lasso00001 = Lasso(alpha=0.0001, max_iter=100000).fit(X_train_scaled, y_train)\n",
    "print(f\"Training set score: {lasso00001.score(X_train_scaled, y_train)}\")\n",
    "print(f\"Test set score: {lasso00001.score(X_test_scaled, y_test)}\")\n",
    "print(f\"Number of features used: {np.sum(lasso00001.coef_ != 0)}\")"
   ]
  },
  {
   "cell_type": "code",
   "execution_count": 367,
   "metadata": {},
   "outputs": [
    {
     "data": {
      "text/plain": [
       "[<matplotlib.lines.Line2D at 0x7f5be697db50>]"
      ]
     },
     "execution_count": 367,
     "metadata": {},
     "output_type": "execute_result"
    },
    {
     "data": {
      "image/png": "[encoded data removed]",
      "text/plain": [
       "<Figure size 640x480 with 1 Axes>"
      ]
     },
     "metadata": {},
     "output_type": "display_data"
    }
   ],
   "source": [
    "import matplotlib.pyplot as plt\n",
    "plt.xlabel(\"Alpha\")\n",
    "plt.ylabel(\"Number of Features Used\")\n",
    "plt.plot(lasso.coef_, 's', label=\"Lasso alpha=1\")\n",
    "plt.plot(lasso001.coef_, '^', label=\"Lasso alpha=0.01\")\n",
    "plt.plot(lasso00001.coef_, 'v', label=\"Lasso alpha=0.0001\")"
   ]
  },
  {
   "cell_type": "code",
   "execution_count": 368,
   "metadata": {},
   "outputs": [
    {
     "data": {
      "text/plain": [
       "[<matplotlib.lines.Line2D at 0x7f5be6803790>]"
      ]
     },
     "execution_count": 368,
     "metadata": {},
     "output_type": "execute_result"
    },
    {
     "data": {
      "image/png": "[encoded data removed]",
      "text/plain": [
       "<Figure size 640x480 with 1 Axes>"
      ]
     },
     "metadata": {},
     "output_type": "display_data"
    }
   ],
   "source": [
    "plt.xlabel(\"Alpha\")\n",
    "plt.ylabel(\"Number of Features Used\")\n",
    "plt.plot(lasso.coef_, 's', label=\"Lasso alpha=1\")\n",
    "# plt.plot(lasso001.coef_, '^', label=\"Lasso alpha=0.01\")\n",
    "# plt.plot(lasso00001.coef_, 'v', label=\"Lasso alpha=0.0001\")"
   ]
  },
  {
   "cell_type": "code",
   "execution_count": 369,
   "metadata": {},
   "outputs": [
    {
     "data": {
      "text/plain": [
       "[<matplotlib.lines.Line2D at 0x7f5be685f350>]"
      ]
     },
     "execution_count": 369,
     "metadata": {},
     "output_type": "execute_result"
    },
    {
     "data": {
      "image/png": "[encoded data removed]",
      "text/plain": [
       "<Figure size 640x480 with 1 Axes>"
      ]
     },
     "metadata": {},
     "output_type": "display_data"
    }
   ],
   "source": [
    "plt.xlabel(\"Alpha\")\n",
    "plt.ylabel(\"Number of Features Used\")\n",
    "# plt.plot(lasso.coef_, 's', label=\"Lasso alpha=1\")\n",
    "plt.plot(lasso001.coef_, '^', label=\"Lasso alpha=0.01\")\n",
    "# plt.plot(lasso00001.coef_, 'v', label=\"Lasso alpha=0.0001\")"
   ]
  },
  {
   "cell_type": "code",
   "execution_count": 370,
   "metadata": {},
   "outputs": [
    {
     "data": {
      "text/plain": [
       "[<matplotlib.lines.Line2D at 0x7f5be68d1190>]"
      ]
     },
     "execution_count": 370,
     "metadata": {},
     "output_type": "execute_result"
    },
    {
     "data": {
      "image/png": "[encoded data removed]",
      "text/plain": [
       "<Figure size 640x480 with 1 Axes>"
      ]
     },
     "metadata": {},
     "output_type": "display_data"
    }
   ],
   "source": [
    "plt.xlabel(\"Alpha\")\n",
    "plt.ylabel(\"Number of Features Used\")\n",
    "# plt.plot(lasso.coef_, 's', label=\"Lasso alpha=1\")\n",
    "# plt.plot(lasso001.coef_, '^', label=\"Lasso alpha=0.01\")\n",
    "plt.plot(lasso00001.coef_, 'v', label=\"Lasso alpha=0.0001\")"
   ]
  },
  {
   "cell_type": "code",
   "execution_count": 371,
   "metadata": {},
   "outputs": [
    {
     "data": {
      "text/plain": [
       "<matplotlib.legend.Legend at 0x7f5be688f9d0>"
      ]
     },
     "execution_count": 371,
     "metadata": {},
     "output_type": "execute_result"
    },
    {
     "data": {
      "image/png": "[encoded data removed]",
      "text/plain": [
       "<Figure size 640x480 with 1 Axes>"
      ]
     },
     "metadata": {},
     "output_type": "display_data"
    }
   ],
   "source": [
    "# plot learning curve for Lasso with alpha=0.01, 0.1, 1, 10\n",
    "from sklearn.model_selection import learning_curve\n",
    "train_sizes, train_scores, test_scores = learning_curve(Lasso(alpha=0.01, max_iter=100000), X_train_scaled, y_train, train_sizes=np.linspace(0.1, 1.0, 5), cv=5)\n",
    "train_scores_mean = np.mean(train_scores, axis=1)\n",
    "train_scores_std = np.std(train_scores, axis=1)\n",
    "test_scores_mean = np.mean(test_scores, axis=1)\n",
    "test_scores_std = np.std(test_scores, axis=1)\n",
    "plt.plot(train_sizes, train_scores_mean, 'o-', color=\"r\", label=\"Training score\")\n",
    "plt.plot(train_sizes, test_scores_mean, 'o-', color=\"g\", label=\"Cross-validation score\")\n",
    "plt.ylabel(\"Score\")\n",
    "plt.xlabel(\"Training examples\")\n",
    "plt.legend(loc=\"best\")\n"
   ]
  },
  {
   "cell_type": "code",
   "execution_count": 372,
   "metadata": {},
   "outputs": [
    {
     "data": {
      "text/plain": [
       "<matplotlib.legend.Legend at 0x7f5be6798610>"
      ]
     },
     "execution_count": 372,
     "metadata": {},
     "output_type": "execute_result"
    },
    {
     "data": {
      "image/png": "[encoded data removed]",
      "text/plain": [
       "<Figure size 640x480 with 1 Axes>"
      ]
     },
     "metadata": {},
     "output_type": "display_data"
    }
   ],
   "source": [
    "train_sizes, train_scores, test_scores = learning_curve(Lasso(alpha=0.1, max_iter=100000), X_train_scaled, y_train, train_sizes=np.linspace(0.1, 1.0, 5), cv=5)\n",
    "train_scores_mean = np.mean(train_scores, axis=1)\n",
    "train_scores_std = np.std(train_scores, axis=1)\n",
    "test_scores_mean = np.mean(test_scores, axis=1)\n",
    "test_scores_std = np.std(test_scores, axis=1)\n",
    "plt.plot(train_sizes, train_scores_mean, 'o-', color=\"r\", label=\"Training score\")\n",
    "plt.plot(train_sizes, test_scores_mean, 'o-', color=\"g\", label=\"Cross-validation score\")\n",
    "plt.ylabel(\"Score\")\n",
    "plt.xlabel(\"Training examples\")\n",
    "plt.legend(loc=\"best\")"
   ]
  },
  {
   "cell_type": "code",
   "execution_count": 373,
   "metadata": {},
   "outputs": [
    {
     "data": {
      "text/plain": [
       "<matplotlib.legend.Legend at 0x7f5be67b8390>"
      ]
     },
     "execution_count": 373,
     "metadata": {},
     "output_type": "execute_result"
    },
    {
     "data": {
      "image/png": "[encoded data removed]",
      "text/plain": [
       "<Figure size 640x480 with 1 Axes>"
      ]
     },
     "metadata": {},
     "output_type": "display_data"
    }
   ],
   "source": [
    "train_sizes, train_scores, test_scores = learning_curve(Lasso(alpha=1, max_iter=100000), X_train_scaled, y_train, train_sizes=np.linspace(0.1, 1.0, 5), cv=5)\n",
    "train_scores_mean = np.mean(train_scores, axis=1)\n",
    "train_scores_std = np.std(train_scores, axis=1)\n",
    "test_scores_mean = np.mean(test_scores, axis=1)\n",
    "test_scores_std = np.std(test_scores, axis=1)\n",
    "plt.plot(train_sizes, train_scores_mean, 'o-', color=\"r\", label=\"Training score\")\n",
    "plt.plot(train_sizes, test_scores_mean, 'o-', color=\"g\", label=\"Cross-validation score\")\n",
    "plt.ylabel(\"Score\")\n",
    "plt.xlabel(\"Training examples\")\n",
    "plt.legend(loc=\"best\")"
   ]
  },
  {
   "cell_type": "markdown",
   "metadata": {},
   "source": [
    "**Question 10**"
   ]
  },
  {
   "cell_type": "markdown",
   "metadata": {},
   "source": [
    "### Grid Search"
   ]
  },
  {
   "cell_type": "code",
   "execution_count": 374,
   "metadata": {},
   "outputs": [
    {
     "name": "stdout",
     "output_type": "stream",
     "text": [
      "Best cross-validation score: 0.5130276864730194\n",
      "Best parameters: {'alpha': 1}\n",
      "Training set score: 0.5337742073290201\n",
      "Test set score: 0.4315961656558963\n",
      "Number of features used: 8\n"
     ]
    }
   ],
   "source": [
    "param_grid: dict[str, int] = {'alpha': [0.0001, 0.001, 0.01, 0.1, 1, 10, 100]}\n",
    "grid: GridSearchCV = GridSearchCV(Lasso(), param_grid, cv=5)\n",
    "grid.fit(X_train_scaled, y_train)\n",
    "print(f\"Best cross-validation score: {grid.best_score_}\")\n",
    "print(f\"Best parameters: {grid.best_params_}\")\n",
    "\n",
    "print(f\"Training set score: {grid.score(X_train_scaled, y_train)}\")\n",
    "print(f\"Test set score: {grid.score(X_test_scaled, y_test)}\")\n",
    "\n",
    "print(f\"Number of features used: {np.sum(grid.best_estimator_.coef_ != 0)}\")"
   ]
  },
  {
   "cell_type": "markdown",
   "metadata": {},
   "source": [
    "### Lasso"
   ]
  },
  {
   "cell_type": "code",
   "execution_count": 375,
   "metadata": {},
   "outputs": [
    {
     "name": "stdout",
     "output_type": "stream",
     "text": [
      "Training set score: 0.5386930162142083\n",
      "Test set score: 0.4367551192131277\n",
      "Number of features used: 9\n"
     ]
    }
   ],
   "source": [
    "best_score: float = 0\n",
    "for gamma in [0.0001, 0.001, 0.01, 0.1, 1, 10, 100]:\n",
    "\tlasso = Lasso(alpha=gamma, max_iter=100000).fit(X_train_scaled, y_train)\n",
    "\tscore = lasso.score(X_test_scaled, y_test)\n",
    "\tif score > best_score:\n",
    "\t\tbest_score = score\n",
    "\t\tbest_parameters = {'alpha': gamma}\n",
    "\n",
    "lasso = Lasso(**best_parameters).fit(X_train_scaled, y_train)\n",
    "print(f\"Training set score: {lasso.score(X_train_scaled, y_train)}\")\n",
    "print(f\"Test set score: {lasso.score(X_test_scaled, y_test)}\")\n",
    "\n",
    "print(f\"Number of features used: {np.sum(lasso.coef_ != 0)}\")"
   ]
  },
  {
   "cell_type": "markdown",
   "metadata": {},
   "source": [
    "### Support Vector Regression"
   ]
  },
  {
   "cell_type": "code",
   "execution_count": 376,
   "metadata": {},
   "outputs": [
    {
     "name": "stdout",
     "output_type": "stream",
     "text": [
      "Training set score: 0.5605745648309347\n",
      "Test set score: 0.4402521028312093\n"
     ]
    }
   ],
   "source": [
    "best_score: float = 0\n",
    "for gamma in [0.0001, 0.001, 0.01, 0.1, 1, 10, 100]:\n",
    "\tfor C in [0.0001, 0.001, 0.01, 0.1, 1, 10, 100]:\n",
    "\t\tsvr = SVR(gamma=gamma, C=C).fit(X_train_scaled, y_train)\n",
    "\t\tscore = svr.score(X_test_scaled, y_test)\n",
    "\t\tif score > best_score:\n",
    "\t\t\tbest_score = score\n",
    "\t\t\tbest_parameters = {'C': C, 'gamma': gamma}\n",
    "\n",
    "svr = SVR(**best_parameters).fit(X_train_scaled, y_train)\n",
    "print(f\"Training set score: {svr.score(X_train_scaled, y_train)}\")\n",
    "print(f\"Test set score: {svr.score(X_test_scaled, y_test)}\")"
   ]
  },
  {
   "cell_type": "markdown",
   "metadata": {},
   "source": [
    "### Support Vector Correlation"
   ]
  },
  {
   "cell_type": "code",
   "execution_count": 377,
   "metadata": {},
   "outputs": [
    {
     "name": "stdout",
     "output_type": "stream",
     "text": [
      "Training set score: 1.0\n",
      "Test set score: 0.018018018018018018\n"
     ]
    }
   ],
   "source": [
    "from sklearn.svm import SVR, SVC\n",
    "\n",
    "best_score: float = 0\n",
    "for gamma in [0.001, 0.01, 0.1, 1, 10, 100]: # try different values for gamma\n",
    "\tfor C in [0.001, 0.01, 0.1, 1, 10, 100]: # try different values for C\n",
    "\t\tsvm: SVC = SVC(gamma=gamma, C=C) # build the model\n",
    "\t\tsvm.fit(X_train, y_train) # train the model\n",
    "\t\tscore: float = svm.score(X_test, y_test) # evaluate the model on the test set\n",
    "\t\tif score > best_score: # if we got a better score, store the score and parameters\n",
    "\t\t\tbest_score = score # store the best score\n",
    "\t\t\tbest_parameters = {'C': C, 'gamma': gamma} # store the best parameters\n",
    "\n",
    "svm: SVC = SVC(**best_parameters) # build the model with the best parameters\n",
    "svm.fit(X_train, y_train) # train the model\n",
    "print(f\"Training set score: {svm.score(X_train, y_train)}\") # evaluate the model on the training set\n",
    "print(f\"Test set score: {svm.score(X_test, y_test)}\") # evaluate the model on the test set"
   ]
  },
  {
   "cell_type": "markdown",
   "metadata": {},
   "source": [
    "### Ridge Regression"
   ]
  },
  {
   "cell_type": "code",
   "execution_count": 378,
   "metadata": {},
   "outputs": [
    {
     "name": "stdout",
     "output_type": "stream",
     "text": [
      "Training set score: 0.5394260840483416\n",
      "Test set score: 0.4355826857407178\n"
     ]
    }
   ],
   "source": [
    "from sklearn.linear_model import Ridge\n",
    "\n",
    "best_score: float = 0\n",
    "for alpha in [0.001, 0.01, 0.1, 1, 10, 100]: # try different values for alpha\n",
    "\tridge: Ridge = Ridge(alpha=alpha) # build the model\n",
    "\tridge.fit(X_train, y_train) # train the model\n",
    "\tscore: float = ridge.score(X_test, y_test) # evaluate the model on the test set\n",
    "\tif score > best_score: # if we got a better score, store the score and parameters\n",
    "\t\tbest_score = score # store the best score\n",
    "\t\tbest_parameters = {'alpha': alpha} # store the best parameters\n",
    "\n",
    "ridge: Ridge = Ridge(**best_parameters) # build the model with the best parameters\n",
    "ridge.fit(X_train, y_train) # train the model\n",
    "print(f\"Training set score: {ridge.score(X_train, y_train)}\") # evaluate the model on the training set\n",
    "print(f\"Test set score: {ridge.score(X_test, y_test)}\") # evaluate the model on the test set"
   ]
  },
  {
   "cell_type": "markdown",
   "metadata": {},
   "source": [
    "### Comparison"
   ]
  },
  {
   "cell_type": "markdown",
   "metadata": {},
   "source": [
    "- Comparing accuracy between several regression models\n",
    "  - Grid Search\n",
    "  - Lasso\n",
    "  - Support Vector Regression\n",
    "  - Ridge Regression\n",
    "- The accuracy between all the models seems to be consistent"
   ]
  },
  {
   "cell_type": "code",
   "execution_count": 379,
   "metadata": {},
   "outputs": [
    {
     "data": {
      "text/plain": [
       "Text(0, 0.5, 'Accuracy')"
      ]
     },
     "execution_count": 379,
     "metadata": {},
     "output_type": "execute_result"
    },
    {
     "data": {
      "image/png": "[encoded data removed]",
      "text/plain": [
       "<Figure size 640x480 with 1 Axes>"
      ]
     },
     "metadata": {},
     "output_type": "display_data"
    }
   ],
   "source": [
    "plt.bar(['Grid Search', 'Lasso', 'SVR', 'Ridge'], [grid.score(X_test_scaled, y_test), lasso.score(X_test_scaled, y_test), svr.score(X_test_scaled, y_test), ridge.score(X_test, y_test)])\n",
    "plt.yticks(np.arange(0, 0.5, 0.05))\n",
    "plt.ylabel('Accuracy')"
   ]
  },
  {
   "cell_type": "markdown",
   "metadata": {},
   "source": [
    "**Question 11**"
   ]
  },
  {
   "cell_type": "markdown",
   "metadata": {},
   "source": [
    "*Part A*"
   ]
  },
  {
   "cell_type": "markdown",
   "metadata": {},
   "source": [
    "- Splitting the data into training set and test set again (just in case)\n",
    "  - As the variables may have been tempered with\n",
    "- Splitting the training set into training set and validation set\n",
    "  - Similar to splitting data into test and training sets\n",
    "  - `test_size` in this case validation size is 99"
   ]
  },
  {
   "cell_type": "code",
   "execution_count": 380,
   "metadata": {},
   "outputs": [],
   "source": [
    "X_train, X_test, y_train, y_test = train_test_split(X, y, random_state=1206) # split the data into training and test sets\n",
    "X_train_pr, X_val, y_train_pr, y_val = train_test_split(X_train, y_train, test_size=99, random_state=1206) # split the training set into training and validation sets"
   ]
  },
  {
   "cell_type": "code",
   "execution_count": 381,
   "metadata": {},
   "outputs": [
    {
     "name": "stdout",
     "output_type": "stream",
     "text": [
      "X_val.shape: (99, 10), y_val.shape: (99,)\n"
     ]
    }
   ],
   "source": [
    "print(f\"X_val.shape: {X_val.shape}, y_val.shape: {y_val.shape}\") # print the shapes of the validation set"
   ]
  },
  {
   "cell_type": "markdown",
   "metadata": {},
   "source": [
    "*Part B*"
   ]
  },
  {
   "cell_type": "code",
   "execution_count": 382,
   "metadata": {},
   "outputs": [],
   "source": [
    "scalar: StandardScaler = StandardScaler()\n",
    "\n",
    "X_train_pr_scaled: np.ndarray = scalar.fit(X_train_pr)\n",
    "X_train_pr_scaled: np.ndarray = scalar.transform(X_train_pr)\n",
    "X_val_scaled: np.ndarray = scalar.transform(X_val)\n",
    "X_val_scaled: np.ndarray = scalar.transform(X_val)"
   ]
  },
  {
   "cell_type": "markdown",
   "metadata": {},
   "source": [
    "*Part C*"
   ]
  },
  {
   "cell_type": "code",
   "execution_count": 383,
   "metadata": {},
   "outputs": [],
   "source": [
    "# Using the nonconformity measure α = |y − ŷ|, where y is the true label and ŷ is its prediction given the training set proper, for each test sample compute the prediction interval for it. Do this for significance levels 5% and 20%.\n",
    "\n"
   ]
  }
 ],
 "metadata": {
  "kernelspec": {
   "display_name": "Python 3.11.0 ('anaconda-pOKeClin-py3.11')",
   "language": "python",
   "name": "python3"
  },
  "language_info": {
   "codemirror_mode": {
    "name": "ipython",
    "version": 3
   },
   "file_extension": ".py",
   "mimetype": "text/x-python",
   "name": "python",
   "nbconvert_exporter": "python",
   "pygments_lexer": "ipython3",
   "version": "3.11.0"
  },
  "orig_nbformat": 4,
  "vscode": {
   "interpreter": {
    "hash": "892714c652f493a6d49359491524d2a8c982297775bb9a8664a3f7cea223b623"
   }
  }
 },
 "nbformat": 4,
 "nbformat_minor": 2
}
